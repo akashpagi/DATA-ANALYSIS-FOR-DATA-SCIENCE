{
 "cells": [
  {
   "cell_type": "markdown",
   "id": "a3f31b41-729b-428f-acd9-434dd1552065",
   "metadata": {},
   "source": [
    "#### **S27.5 - PANDAS EXPORT**\n",
    "\n",
    "Some commonly used export functions in pandas library:"
   ]
  },
  {
   "cell_type": "code",
   "execution_count": 32,
   "id": "587a9363-eeb3-4e98-af70-d40c01247cfc",
   "metadata": {},
   "outputs": [],
   "source": [
    "import pandas as pd"
   ]
  },
  {
   "cell_type": "markdown",
   "id": "e65d8666-2088-4a17-91c7-1e1aa31342af",
   "metadata": {},
   "source": [
    "**to_csv() function**\n",
    "- **Syntax: DataFrame.to_csv(file_path, index=Ture)**"
   ]
  },
  {
   "cell_type": "code",
   "execution_count": 42,
   "id": "b8c69fab-9beb-4bed-bc3a-5dd0ebe14231",
   "metadata": {},
   "outputs": [
    {
     "data": {
      "text/plain": [
       "Index(['match_id', 'inning', 'batting_team', 'bowling_team', 'over', 'ball',\n",
       "       'batsman', 'non_striker', 'bowler', 'is_super_over', 'wide_runs',\n",
       "       'bye_runs', 'legbye_runs', 'noball_runs', 'penalty_runs',\n",
       "       'batsman_runs', 'extra_runs', 'total_runs', 'player_dismissed',\n",
       "       'dismissal_kind', 'fielder'],\n",
       "      dtype='object')"
      ]
     },
     "execution_count": 42,
     "metadata": {},
     "output_type": "execute_result"
    }
   ],
   "source": [
    "df = pd.read_csv('deliveries.csv')\n",
    "df.columns"
   ]
  },
  {
   "cell_type": "code",
   "execution_count": 43,
   "id": "31f1ed30-8609-4246-8f68-986bbefea30d",
   "metadata": {},
   "outputs": [],
   "source": [
    "# ex.1\n",
    "temp_df = df.groupby('batsman')['batsman_runs'].sum().reset_index()\n",
    "temp_df.to_csv('batsman_runs.csv', index=False)"
   ]
  },
  {
   "cell_type": "code",
   "execution_count": 44,
   "id": "a2a1b975-7835-4fb6-8746-6222fa0561bf",
   "metadata": {},
   "outputs": [],
   "source": [
    "# ex.2\n",
    "new_df = df.pivot_table(index='batsman', columns='bowling_team', \n",
    "                        values='batsman_runs', aggfunc='sum')\n",
    "new_df.to_csv('batsman_vs_teams.csv')"
   ]
  },
  {
   "cell_type": "markdown",
   "id": "f8bf555b-141a-43ba-9fb8-7428d677b0d1",
   "metadata": {},
   "source": [
    "**to_excel() function**\n",
    "- **Syntax: DataFrame.to_excel(file_path, sheet_name)**"
   ]
  },
  {
   "cell_type": "code",
   "execution_count": 45,
   "id": "029dc4e9-be8d-4498-89dd-14aea4452b2f",
   "metadata": {},
   "outputs": [],
   "source": [
    "# Ex.1\n",
    "temp_df = df.groupby('batsman')['batsman_runs'].sum().reset_index()\n",
    "temp_df.to_excel('batsman_runs.xlsx')"
   ]
  },
  {
   "cell_type": "code",
   "execution_count": 46,
   "id": "fcd9dd47-4c11-4f35-bc4c-a1abcf4428f6",
   "metadata": {},
   "outputs": [],
   "source": [
    "# sheet_name parameter\n",
    "temp_df.to_excel('batsman_runs.xlsx', sheet_name='batsman_runs_1')"
   ]
  },
  {
   "cell_type": "code",
   "execution_count": 47,
   "id": "a9eeb861-4e9f-4896-8824-0443a7de54de",
   "metadata": {},
   "outputs": [],
   "source": [
    "temp_df1 = df.groupby('batsman')['batsman_runs'].sum().reset_index()\n",
    "temp_df2 = df.pivot_table(index='batsman', columns='bowling_team', \n",
    "                        values='batsman_runs', aggfunc='sum')\n",
    "# Excel file with multiple sheet\n",
    "with pd.ExcelWriter('BatsmanRuns.xlsx') as writer:\n",
    "    temp_df1.to_excel( writer, sheet_name='batsman_runs_1')\n",
    "    temp_df2.to_excel( writer, sheet_name='batsman_runs_2')"
   ]
  },
  {
   "cell_type": "markdown",
   "id": "966266b1-c5dd-4912-9349-c93353142217",
   "metadata": {},
   "source": [
    "**to_html() function**\n",
    "- Render a DataFrame as an HTML table.\n",
    "- **Syntax: DataFrame.to_html(file_path, index=Ture)**"
   ]
  },
  {
   "cell_type": "code",
   "execution_count": 48,
   "id": "279118c8-485f-42df-8eb5-1b073faa9abf",
   "metadata": {},
   "outputs": [],
   "source": [
    "six = df.query('batsman_runs == 6')\n",
    "df1 = six.pivot_table(index='over',columns='ball',\n",
    "                values='batsman_runs', aggfunc='count')\n",
    "df1.to_html('sixies_per_ball.html',bold_rows=False)"
   ]
  },
  {
   "cell_type": "markdown",
   "id": "459fc0c1-b521-49fb-82f9-c509b42ba55b",
   "metadata": {},
   "source": [
    "**to_json() function**\n",
    "- Convert the object to a JSON string.\n",
    "- **Syntax: DataFrame.to_json(file_path, index=Ture)**\n",
    "- **Note:** NaN’s and None will be converted to null and datetime objects will be converted to UNIX timestamps."
   ]
  },
  {
   "cell_type": "code",
   "execution_count": 59,
   "id": "6ba86a0c-5aab-4217-937d-50b3026fc424",
   "metadata": {},
   "outputs": [
    {
     "data": {
      "text/plain": [
       "Index(['match_id', 'inning', 'batting_team', 'bowling_team', 'over', 'ball',\n",
       "       'batsman', 'non_striker', 'bowler', 'is_super_over', 'wide_runs',\n",
       "       'bye_runs', 'legbye_runs', 'noball_runs', 'penalty_runs',\n",
       "       'batsman_runs', 'extra_runs', 'total_runs', 'player_dismissed',\n",
       "       'dismissal_kind', 'fielder'],\n",
       "      dtype='object')"
      ]
     },
     "execution_count": 59,
     "metadata": {},
     "output_type": "execute_result"
    }
   ],
   "source": [
    "df.columns"
   ]
  },
  {
   "cell_type": "code",
   "execution_count": 62,
   "id": "83ef8dba-fad2-45c8-b2ce-0f8e77d34c74",
   "metadata": {},
   "outputs": [],
   "source": [
    "# Players with there team\n",
    "players = df.groupby(['batting_team','batsman'])['batsman_runs'].sum().unstack()\n",
    "players.to_json('players_and_teams.json')"
   ]
  },
  {
   "cell_type": "markdown",
   "id": "6893750e-3874-4ee9-9f8b-a7407e093e59",
   "metadata": {},
   "source": [
    "**to_sql() function**\n",
    "- Write records stored in a DataFrame to a SQL database.\n",
    "- **Syntax: DataFrame.to_sql(name, con, schema, if_exists='fail', index=True, index_label, chunksize, dtype, method)**\n",
    "- Databases supported by SQLAlchemy are supported. Tables can be newly created, appended to, or overwritten."
   ]
  },
  {
   "cell_type": "code",
   "execution_count": 68,
   "id": "7449819c-a0d0-4b2e-8e5b-0b170235cede",
   "metadata": {},
   "outputs": [
    {
     "name": "stdout",
     "output_type": "stream",
     "text": [
      "Requirement already satisfied: pymysql in c:\\users\\akash pagi\\appdata\\local\\programs\\python\\python312\\lib\\site-packages (1.1.0)\n"
     ]
    },
    {
     "name": "stderr",
     "output_type": "stream",
     "text": [
      "\n",
      "[notice] A new release of pip is available: 23.2.1 -> 23.3.2\n",
      "[notice] To update, run: python.exe -m pip install --upgrade pip\n"
     ]
    },
    {
     "name": "stdout",
     "output_type": "stream",
     "text": [
      "Requirement already satisfied: sqlalchemy in c:\\users\\akash pagi\\appdata\\local\\programs\\python\\python312\\lib\\site-packages (2.0.25)\n",
      "Requirement already satisfied: typing-extensions>=4.6.0 in c:\\users\\akash pagi\\appdata\\local\\programs\\python\\python312\\lib\\site-packages (from sqlalchemy) (4.9.0)\n",
      "Requirement already satisfied: greenlet!=0.4.17 in c:\\users\\akash pagi\\appdata\\local\\programs\\python\\python312\\lib\\site-packages (from sqlalchemy) (3.0.3)\n"
     ]
    },
    {
     "name": "stderr",
     "output_type": "stream",
     "text": [
      "\n",
      "[notice] A new release of pip is available: 23.2.1 -> 23.3.2\n",
      "[notice] To update, run: python.exe -m pip install --upgrade pip\n"
     ]
    }
   ],
   "source": [
    "!pip install pymysql\n",
    "!pip install sqlalchemy"
   ]
  },
  {
   "cell_type": "code",
   "execution_count": 69,
   "id": "4aa543b4-0772-441e-bd13-02e215082592",
   "metadata": {},
   "outputs": [
    {
     "data": {
      "text/plain": [
       "179078"
      ]
     },
     "execution_count": 69,
     "metadata": {},
     "output_type": "execute_result"
    }
   ],
   "source": [
    "import pymysql\n",
    "from sqlalchemy import create_engine\n",
    "\n",
    "\n",
    "from sqlalchemy import create_engine\n",
    "engine = create_engine(\"mysql+pymysql://root:@localhost/ipl\")\n",
    "df.to_sql('ipl', con = engine, if_exists='append')"
   ]
  },
  {
   "cell_type": "code",
   "execution_count": 71,
   "id": "664d479f-46e8-4939-b880-0281ce3cb675",
   "metadata": {},
   "outputs": [
    {
     "data": {
      "text/plain": [
       "516"
      ]
     },
     "execution_count": 71,
     "metadata": {},
     "output_type": "execute_result"
    }
   ],
   "source": [
    "temp_df.to_sql('batsman_runs', con = engine, if_exists='append')"
   ]
  },
  {
   "cell_type": "code",
   "execution_count": null,
   "id": "4f8f14a2-a3b4-4488-bb0d-5a5a89099171",
   "metadata": {},
   "outputs": [],
   "source": []
  },
  {
   "cell_type": "code",
   "execution_count": null,
   "id": "bac1208a-1c2d-42f5-8c0c-91bd2d32713b",
   "metadata": {},
   "outputs": [],
   "source": []
  },
  {
   "cell_type": "code",
   "execution_count": null,
   "id": "4a40f875-92e6-427f-a810-920d975b8f72",
   "metadata": {},
   "outputs": [],
   "source": []
  },
  {
   "cell_type": "code",
   "execution_count": null,
   "id": "c0795424-76e7-431a-8cdb-4ce7c20d8a25",
   "metadata": {},
   "outputs": [],
   "source": []
  },
  {
   "cell_type": "code",
   "execution_count": null,
   "id": "0a4cc951-1214-4af0-a76c-05ce1036ff4e",
   "metadata": {},
   "outputs": [],
   "source": []
  },
  {
   "cell_type": "code",
   "execution_count": null,
   "id": "7f01e88b-8c2b-46dd-add4-5a90ae200c18",
   "metadata": {},
   "outputs": [],
   "source": []
  },
  {
   "cell_type": "code",
   "execution_count": null,
   "id": "b345d8ac-9f93-4ac9-983d-af52c0d7d1c4",
   "metadata": {},
   "outputs": [],
   "source": []
  },
  {
   "cell_type": "code",
   "execution_count": null,
   "id": "938f7090-43ca-4259-8b43-0a994efbb288",
   "metadata": {},
   "outputs": [],
   "source": []
  },
  {
   "cell_type": "code",
   "execution_count": null,
   "id": "50509297-a918-4050-9159-71cc21900aec",
   "metadata": {},
   "outputs": [],
   "source": []
  },
  {
   "cell_type": "code",
   "execution_count": null,
   "id": "871ce0f5-d11c-4b9c-ba3a-23d713620511",
   "metadata": {},
   "outputs": [],
   "source": []
  },
  {
   "cell_type": "code",
   "execution_count": null,
   "id": "bd717fee-ca96-4d80-b8e2-a6770dc47c3f",
   "metadata": {},
   "outputs": [],
   "source": []
  },
  {
   "cell_type": "code",
   "execution_count": null,
   "id": "dc466467-6fb0-47ea-a936-b6968dd70db2",
   "metadata": {},
   "outputs": [],
   "source": []
  }
 ],
 "metadata": {
  "kernelspec": {
   "display_name": "Python 3 (ipykernel)",
   "language": "python",
   "name": "python3"
  },
  "language_info": {
   "codemirror_mode": {
    "name": "ipython",
    "version": 3
   },
   "file_extension": ".py",
   "mimetype": "text/x-python",
   "name": "python",
   "nbconvert_exporter": "python",
   "pygments_lexer": "ipython3",
   "version": "3.12.0"
  }
 },
 "nbformat": 4,
 "nbformat_minor": 5
}
