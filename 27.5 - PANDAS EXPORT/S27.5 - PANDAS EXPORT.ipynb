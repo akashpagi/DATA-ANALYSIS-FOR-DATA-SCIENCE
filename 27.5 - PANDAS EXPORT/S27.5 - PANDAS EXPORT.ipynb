{
 "cells": [
  {
   "cell_type": "markdown",
   "id": "a3f31b41-729b-428f-acd9-434dd1552065",
   "metadata": {},
   "source": [
    "#### **S27.5 - PANDAS EXPORT**\n",
    "\n",
    "Some commonly used export functions in pandas library:"
   ]
  },
  {
   "cell_type": "code",
   "execution_count": null,
   "id": "587a9363-eeb3-4e98-af70-d40c01247cfc",
   "metadata": {},
   "outputs": [],
   "source": [
    "import pandas as pd"
   ]
  },
  {
   "cell_type": "markdown",
   "id": "e65d8666-2088-4a17-91c7-1e1aa31342af",
   "metadata": {},
   "source": [
    "**to_csv() function**"
   ]
  },
  {
   "cell_type": "code",
   "execution_count": null,
   "id": "b8c69fab-9beb-4bed-bc3a-5dd0ebe14231",
   "metadata": {},
   "outputs": [],
   "source": []
  },
  {
   "cell_type": "markdown",
   "id": "f8bf555b-141a-43ba-9fb8-7428d677b0d1",
   "metadata": {},
   "source": [
    "**to_excel() function**"
   ]
  },
  {
   "cell_type": "code",
   "execution_count": null,
   "id": "029dc4e9-be8d-4498-89dd-14aea4452b2f",
   "metadata": {},
   "outputs": [],
   "source": []
  },
  {
   "cell_type": "markdown",
   "id": "966266b1-c5dd-4912-9349-c93353142217",
   "metadata": {},
   "source": [
    "**to_html() function**"
   ]
  },
  {
   "cell_type": "code",
   "execution_count": null,
   "id": "279118c8-485f-42df-8eb5-1b073faa9abf",
   "metadata": {},
   "outputs": [],
   "source": []
  },
  {
   "cell_type": "markdown",
   "id": "459fc0c1-b521-49fb-82f9-c509b42ba55b",
   "metadata": {},
   "source": [
    "**to_json() function**"
   ]
  },
  {
   "cell_type": "code",
   "execution_count": null,
   "id": "6ba86a0c-5aab-4217-937d-50b3026fc424",
   "metadata": {},
   "outputs": [],
   "source": []
  },
  {
   "cell_type": "markdown",
   "id": "4832d28e-5999-43dc-8652-1204822505be",
   "metadata": {},
   "source": [
    "**to_sql() function**"
   ]
  },
  {
   "cell_type": "code",
   "execution_count": null,
   "id": "d1746ba3-2b6e-45de-9eab-41acd1047ab3",
   "metadata": {},
   "outputs": [],
   "source": []
  },
  {
   "cell_type": "markdown",
   "id": "0d235a07-86fe-4ba1-b560-13522f4921a5",
   "metadata": {},
   "source": [
    "**to_() function**"
   ]
  },
  {
   "cell_type": "code",
   "execution_count": null,
   "id": "664d479f-46e8-4939-b880-0281ce3cb675",
   "metadata": {},
   "outputs": [],
   "source": []
  },
  {
   "cell_type": "code",
   "execution_count": null,
   "id": "4f8f14a2-a3b4-4488-bb0d-5a5a89099171",
   "metadata": {},
   "outputs": [],
   "source": []
  },
  {
   "cell_type": "code",
   "execution_count": null,
   "id": "bac1208a-1c2d-42f5-8c0c-91bd2d32713b",
   "metadata": {},
   "outputs": [],
   "source": []
  },
  {
   "cell_type": "code",
   "execution_count": null,
   "id": "4a40f875-92e6-427f-a810-920d975b8f72",
   "metadata": {},
   "outputs": [],
   "source": []
  },
  {
   "cell_type": "code",
   "execution_count": null,
   "id": "c0795424-76e7-431a-8cdb-4ce7c20d8a25",
   "metadata": {},
   "outputs": [],
   "source": []
  },
  {
   "cell_type": "code",
   "execution_count": null,
   "id": "0a4cc951-1214-4af0-a76c-05ce1036ff4e",
   "metadata": {},
   "outputs": [],
   "source": []
  },
  {
   "cell_type": "code",
   "execution_count": null,
   "id": "7f01e88b-8c2b-46dd-add4-5a90ae200c18",
   "metadata": {},
   "outputs": [],
   "source": []
  },
  {
   "cell_type": "code",
   "execution_count": null,
   "id": "b345d8ac-9f93-4ac9-983d-af52c0d7d1c4",
   "metadata": {},
   "outputs": [],
   "source": []
  },
  {
   "cell_type": "code",
   "execution_count": null,
   "id": "938f7090-43ca-4259-8b43-0a994efbb288",
   "metadata": {},
   "outputs": [],
   "source": []
  },
  {
   "cell_type": "code",
   "execution_count": null,
   "id": "50509297-a918-4050-9159-71cc21900aec",
   "metadata": {},
   "outputs": [],
   "source": []
  },
  {
   "cell_type": "code",
   "execution_count": null,
   "id": "871ce0f5-d11c-4b9c-ba3a-23d713620511",
   "metadata": {},
   "outputs": [],
   "source": []
  },
  {
   "cell_type": "code",
   "execution_count": null,
   "id": "bd717fee-ca96-4d80-b8e2-a6770dc47c3f",
   "metadata": {},
   "outputs": [],
   "source": []
  },
  {
   "cell_type": "code",
   "execution_count": null,
   "id": "dc466467-6fb0-47ea-a936-b6968dd70db2",
   "metadata": {},
   "outputs": [],
   "source": []
  }
 ],
 "metadata": {
  "kernelspec": {
   "display_name": "Python 3 (ipykernel)",
   "language": "python",
   "name": "python3"
  },
  "language_info": {
   "codemirror_mode": {
    "name": "ipython",
    "version": 3
   },
   "file_extension": ".py",
   "mimetype": "text/x-python",
   "name": "python",
   "nbconvert_exporter": "python",
   "pygments_lexer": "ipython3",
   "version": "3.12.0"
  }
 },
 "nbformat": 4,
 "nbformat_minor": 5
}
