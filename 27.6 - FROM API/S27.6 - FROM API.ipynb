{
 "cells": [
  {
   "cell_type": "markdown",
   "id": "faed6dec-8318-4446-a9a4-1f5444bab244",
   "metadata": {},
   "source": [
    "### S27.6 - FROM API"
   ]
  },
  {
   "cell_type": "markdown",
   "id": "e6135984-c55e-4289-96a6-d602a0246406",
   "metadata": {},
   "source": [
    "#### **What is an API?**\n",
    "- API\n",
    "- "
   ]
  },
  {
   "cell_type": "code",
   "execution_count": null,
   "id": "8f34a8df-d006-4762-bafd-a840a5c31107",
   "metadata": {},
   "outputs": [],
   "source": []
  },
  {
   "cell_type": "code",
   "execution_count": null,
   "id": "9f15b465-39a5-4e0f-afa5-6a26f863084b",
   "metadata": {},
   "outputs": [],
   "source": []
  },
  {
   "cell_type": "code",
   "execution_count": null,
   "id": "98705186-96d2-4f2b-9b3a-7209d5ca3a67",
   "metadata": {},
   "outputs": [],
   "source": []
  },
  {
   "cell_type": "code",
   "execution_count": null,
   "id": "cb9641a7-a51c-4205-95a5-8cd3207df1ce",
   "metadata": {},
   "outputs": [],
   "source": []
  },
  {
   "cell_type": "code",
   "execution_count": null,
   "id": "ab5e9ad2-0456-4335-88c4-79a55204509f",
   "metadata": {},
   "outputs": [],
   "source": []
  },
  {
   "cell_type": "code",
   "execution_count": null,
   "id": "07530646-e2ec-4195-986d-79f95d97b638",
   "metadata": {},
   "outputs": [],
   "source": []
  },
  {
   "cell_type": "code",
   "execution_count": null,
   "id": "35379840-6132-485e-9b42-efacfd6e9f73",
   "metadata": {},
   "outputs": [],
   "source": []
  },
  {
   "cell_type": "code",
   "execution_count": null,
   "id": "61a777a7-36cb-4db8-9e5a-acbf39b1d32c",
   "metadata": {},
   "outputs": [],
   "source": []
  },
  {
   "cell_type": "code",
   "execution_count": null,
   "id": "adfc63f3-ba1e-4b76-b51b-510c204ef2e8",
   "metadata": {},
   "outputs": [],
   "source": []
  },
  {
   "cell_type": "code",
   "execution_count": null,
   "id": "8d7384d9-a974-4226-8e76-cee315295a22",
   "metadata": {},
   "outputs": [],
   "source": []
  },
  {
   "cell_type": "code",
   "execution_count": null,
   "id": "b5c10ce6-4f66-45b6-aa12-94556ea72e04",
   "metadata": {},
   "outputs": [],
   "source": []
  }
 ],
 "metadata": {
  "kernelspec": {
   "display_name": "Python 3 (ipykernel)",
   "language": "python",
   "name": "python3"
  },
  "language_info": {
   "codemirror_mode": {
    "name": "ipython",
    "version": 3
   },
   "file_extension": ".py",
   "mimetype": "text/x-python",
   "name": "python",
   "nbconvert_exporter": "python",
   "pygments_lexer": "ipython3",
   "version": "3.12.0"
  }
 },
 "nbformat": 4,
 "nbformat_minor": 5
}
