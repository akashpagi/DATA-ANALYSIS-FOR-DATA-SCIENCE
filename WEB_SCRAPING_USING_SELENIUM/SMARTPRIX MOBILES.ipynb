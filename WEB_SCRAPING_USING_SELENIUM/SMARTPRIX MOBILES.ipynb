{
 "cells": [
  {
   "cell_type": "markdown",
   "id": "5f89dca6-af47-496b-ab66-ce04c32ca988",
   "metadata": {},
   "source": [
    "### CREATING SMARTPRIX MOBILES DATASET"
   ]
  },
  {
   "cell_type": "code",
   "execution_count": null,
   "id": "c06bb269-edfe-4a1e-87ef-bdf08b147fc0",
   "metadata": {},
   "outputs": [],
   "source": []
  },
  {
   "cell_type": "code",
   "execution_count": null,
   "id": "7770ebf9-727d-4502-8995-854b868e7a38",
   "metadata": {},
   "outputs": [],
   "source": []
  },
  {
   "cell_type": "code",
   "execution_count": null,
   "id": "3b2b3bfc-30a0-4034-880d-392e6ff21abc",
   "metadata": {},
   "outputs": [],
   "source": []
  },
  {
   "cell_type": "code",
   "execution_count": null,
   "id": "83163e65-0088-4018-824d-b9687275bfc6",
   "metadata": {},
   "outputs": [],
   "source": []
  },
  {
   "cell_type": "code",
   "execution_count": null,
   "id": "abb74b35-3d7b-4dc1-bc5d-01ee0fb6432c",
   "metadata": {},
   "outputs": [],
   "source": []
  },
  {
   "cell_type": "code",
   "execution_count": null,
   "id": "66e703f9-2863-4818-aad7-f67fd8f7c002",
   "metadata": {},
   "outputs": [],
   "source": []
  },
  {
   "cell_type": "code",
   "execution_count": null,
   "id": "9e26ee81-5095-4e0b-8b44-87f3b42b0b0c",
   "metadata": {},
   "outputs": [],
   "source": []
  },
  {
   "cell_type": "code",
   "execution_count": null,
   "id": "1b2035c3-9a4a-41d3-869c-2ef52c32995c",
   "metadata": {},
   "outputs": [],
   "source": []
  },
  {
   "cell_type": "code",
   "execution_count": null,
   "id": "b2a63b28-d0cf-42bc-9142-6d1a1d6e3761",
   "metadata": {},
   "outputs": [],
   "source": []
  },
  {
   "cell_type": "code",
   "execution_count": null,
   "id": "7ff8ade8-bbf3-43e9-a550-69d08cdab483",
   "metadata": {},
   "outputs": [],
   "source": []
  },
  {
   "cell_type": "code",
   "execution_count": null,
   "id": "53471cf1-c400-4c8b-baba-532cd5d8ba4a",
   "metadata": {},
   "outputs": [],
   "source": []
  },
  {
   "cell_type": "code",
   "execution_count": null,
   "id": "76a79af4-5db8-4283-9f1c-96500e36ec15",
   "metadata": {},
   "outputs": [],
   "source": []
  },
  {
   "cell_type": "code",
   "execution_count": null,
   "id": "00da5ff7-e76f-49ac-8f82-26a0b5d1a6d4",
   "metadata": {},
   "outputs": [],
   "source": []
  },
  {
   "cell_type": "code",
   "execution_count": null,
   "id": "90a750b0-e579-4c10-b2b5-aaff2e7d0432",
   "metadata": {},
   "outputs": [],
   "source": []
  },
  {
   "cell_type": "code",
   "execution_count": null,
   "id": "e97b854a-15e7-4c1d-8f2f-f46bad3dd928",
   "metadata": {},
   "outputs": [],
   "source": []
  },
  {
   "cell_type": "code",
   "execution_count": null,
   "id": "aff0d8b2-7b87-45eb-9897-16cc72e5b1e2",
   "metadata": {},
   "outputs": [],
   "source": []
  },
  {
   "cell_type": "code",
   "execution_count": null,
   "id": "9cbcf1ad-ae38-4268-8eb4-60157834e060",
   "metadata": {},
   "outputs": [],
   "source": []
  },
  {
   "cell_type": "code",
   "execution_count": null,
   "id": "62378af4-b39b-4cb8-a0bc-3af1e911a8dd",
   "metadata": {},
   "outputs": [],
   "source": []
  },
  {
   "cell_type": "code",
   "execution_count": null,
   "id": "7150e763-68f5-4ad6-bc23-a7a7bbf38616",
   "metadata": {},
   "outputs": [],
   "source": []
  }
 ],
 "metadata": {
  "kernelspec": {
   "display_name": "Python 3 (ipykernel)",
   "language": "python",
   "name": "python3"
  },
  "language_info": {
   "codemirror_mode": {
    "name": "ipython",
    "version": 3
   },
   "file_extension": ".py",
   "mimetype": "text/x-python",
   "name": "python",
   "nbconvert_exporter": "python",
   "pygments_lexer": "ipython3",
   "version": "3.12.0"
  }
 },
 "nbformat": 4,
 "nbformat_minor": 5
}
