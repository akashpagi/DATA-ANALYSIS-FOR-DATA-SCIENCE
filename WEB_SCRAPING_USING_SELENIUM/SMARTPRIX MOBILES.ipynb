{
 "cells": [
  {
   "cell_type": "markdown",
   "id": "5f89dca6-af47-496b-ab66-ce04c32ca988",
   "metadata": {},
   "source": [
    "### CREATING SMARTPRIX MOBILES DATASET"
   ]
  },
  {
   "cell_type": "code",
   "execution_count": 40,
   "id": "c06bb269-edfe-4a1e-87ef-bdf08b147fc0",
   "metadata": {},
   "outputs": [],
   "source": [
    "with open('smartprix_mobiles.html', 'r', encoding='utf-8',) as f:\n",
    "    html = f.read()"
   ]
  },
  {
   "cell_type": "code",
   "execution_count": 41,
   "id": "7770ebf9-727d-4502-8995-854b868e7a38",
   "metadata": {},
   "outputs": [],
   "source": [
    "import pandas as pd\n",
    "import requests\n",
    "from bs4 import BeautifulSoup\n",
    "import numpy as np"
   ]
  },
  {
   "cell_type": "code",
   "execution_count": 42,
   "id": "3b2b3bfc-30a0-4034-880d-392e6ff21abc",
   "metadata": {},
   "outputs": [],
   "source": [
    "soup = BeautifulSoup(html,)\n",
    "# soup.prettify()"
   ]
  },
  {
   "cell_type": "code",
   "execution_count": 55,
   "id": "9e26ee81-5095-4e0b-8b44-87f3b42b0b0c",
   "metadata": {},
   "outputs": [],
   "source": [
    "import requests\n",
    "from bs4 import BeautifulSoup\n",
    "\n",
    "soup = BeautifulSoup(html,'html.parser')\n",
    "\n",
    "product_name = []\n",
    "price = []\n",
    "s_score = []\n",
    "\n",
    "# Extract the products\n",
    "products = soup.find_all('div', class_='sm-product has-tag has-features has-actions')\n",
    "for product in products:\n",
    "    # Extract the product name\n",
    "    product_name.append(product.find('h2').get_text())\n",
    "    \n",
    "    # Extract the product price\n",
    "    price.append(product.find('span', class_='price').get_text())\n",
    "    \n",
    "    # Extract the product spec score\n",
    "    div = product.find('div', {'class':'score rank-2-bg'})\n",
    "    if div is not None:\n",
    "        s_score.append(div.find('b').get_text())\n",
    "    else:\n",
    "        s_score.append(np.nan)\n"
   ]
  },
  {
   "cell_type": "code",
   "execution_count": 69,
   "id": "1b2035c3-9a4a-41d3-869c-2ef52c32995c",
   "metadata": {},
   "outputs": [],
   "source": [
    "df = pd.DataFrame({\n",
    "    'product name': product_name,\n",
    "    'price' : price,\n",
    "    'spec. score': s_score,\n",
    "    \n",
    "})"
   ]
  },
  {
   "cell_type": "code",
   "execution_count": 72,
   "id": "b2a63b28-d0cf-42bc-9142-6d1a1d6e3761",
   "metadata": {},
   "outputs": [],
   "source": [
    "names = []\n",
    "prices = []\n",
    "ratings = []\n",
    "sim = []\n",
    "processor = []\n",
    "ram = []\n",
    "battery = []\n",
    "display = []\n",
    "camera = []\n",
    "card = []\n",
    "os = []\n",
    "\n",
    "for i in soup.find_all('div',{'class':'sm-product has-tag has-features has-actions'}):\n",
    "    try:\n",
    "        names.append(i.find('h2').text)\n",
    "    except:\n",
    "        names.append(np.nan)\n",
    "    try:\n",
    "        prices.append(i.find('span',{'class':'price'}).text)\n",
    "    except:\n",
    "        price.append(np.nan)\n",
    "    try:\n",
    "        ratings.append(i.find('div',{'class':'score rank-2-bg'}).find('b').text)\n",
    "    except:\n",
    "        ratings.append(np.nan)\n",
    "        \n",
    "    x = i.find('ul',{'class':'sm-feat specs'}).find_all('li')\n",
    "    try:\n",
    "        sim.append(x[0].text)\n",
    "    except:\n",
    "        sim.append(np.nan)\n",
    "    try:\n",
    "        processor.append(x[1].text)\n",
    "    except:\n",
    "        processor.append(np.nan)\n",
    "    try:    \n",
    "        ram.append(x[2].text)\n",
    "    except:\n",
    "        ram.append(np.nan)\n",
    "    try:\n",
    "        battery.append(x[3].text)\n",
    "    except:\n",
    "        battery.append(np.nan)\n",
    "    try:\n",
    "        display.append(x[4].text)\n",
    "    except:\n",
    "        display.append(np.nan)\n",
    "    try:\n",
    "        camera.append(x[5].text)\n",
    "    except:\n",
    "        camera.append(np.nan)\n",
    "    try:\n",
    "        card.append(x[6].text)\n",
    "    except:\n",
    "        card.append(np.nan)\n",
    "    try:\n",
    "        os.append(x[7].text)\n",
    "    except:\n",
    "        os.append(np.nan)\n",
    "            "
   ]
  },
  {
   "cell_type": "code",
   "execution_count": 77,
   "id": "7ff8ade8-bbf3-43e9-a550-69d08cdab483",
   "metadata": {},
   "outputs": [],
   "source": [
    "df = pd.DataFrame({\n",
    "    'model':names,\n",
    "    'price':prices,\n",
    "    'rating':ratings,\n",
    "    'sim':sim,\n",
    "    'processor':processor,\n",
    "    'ram':ram,\n",
    "    'battery':battery,\n",
    "    'display':display,\n",
    "    'camera':camera,\n",
    "    'card':card,\n",
    "    'os':os\n",
    "})"
   ]
  },
  {
   "cell_type": "code",
   "execution_count": 79,
   "id": "76a79af4-5db8-4283-9f1c-96500e36ec15",
   "metadata": {},
   "outputs": [
    {
     "name": "stdout",
     "output_type": "stream",
     "text": [
      "<class 'pandas.core.frame.DataFrame'>\n",
      "RangeIndex: 1020 entries, 0 to 1019\n",
      "Data columns (total 11 columns):\n",
      " #   Column     Non-Null Count  Dtype \n",
      "---  ------     --------------  ----- \n",
      " 0   model      1020 non-null   object\n",
      " 1   price      1020 non-null   object\n",
      " 2   rating     847 non-null    object\n",
      " 3   sim        1020 non-null   object\n",
      " 4   processor  1020 non-null   object\n",
      " 5   ram        1020 non-null   object\n",
      " 6   battery    1020 non-null   object\n",
      " 7   display    1020 non-null   object\n",
      " 8   camera     1018 non-null   object\n",
      " 9   card       1000 non-null   object\n",
      " 10  os         975 non-null    object\n",
      "dtypes: object(11)\n",
      "memory usage: 87.8+ KB\n"
     ]
    }
   ],
   "source": [
    "df.info()"
   ]
  },
  {
   "cell_type": "code",
   "execution_count": null,
   "id": "00da5ff7-e76f-49ac-8f82-26a0b5d1a6d4",
   "metadata": {},
   "outputs": [],
   "source": []
  },
  {
   "cell_type": "code",
   "execution_count": null,
   "id": "90a750b0-e579-4c10-b2b5-aaff2e7d0432",
   "metadata": {},
   "outputs": [],
   "source": []
  },
  {
   "cell_type": "code",
   "execution_count": null,
   "id": "e97b854a-15e7-4c1d-8f2f-f46bad3dd928",
   "metadata": {},
   "outputs": [],
   "source": []
  },
  {
   "cell_type": "code",
   "execution_count": null,
   "id": "aff0d8b2-7b87-45eb-9897-16cc72e5b1e2",
   "metadata": {},
   "outputs": [],
   "source": []
  },
  {
   "cell_type": "code",
   "execution_count": null,
   "id": "9cbcf1ad-ae38-4268-8eb4-60157834e060",
   "metadata": {},
   "outputs": [],
   "source": []
  },
  {
   "cell_type": "code",
   "execution_count": null,
   "id": "62378af4-b39b-4cb8-a0bc-3af1e911a8dd",
   "metadata": {},
   "outputs": [],
   "source": []
  },
  {
   "cell_type": "code",
   "execution_count": null,
   "id": "7150e763-68f5-4ad6-bc23-a7a7bbf38616",
   "metadata": {},
   "outputs": [],
   "source": []
  }
 ],
 "metadata": {
  "kernelspec": {
   "display_name": "Python 3 (ipykernel)",
   "language": "python",
   "name": "python3"
  },
  "language_info": {
   "codemirror_mode": {
    "name": "ipython",
    "version": 3
   },
   "file_extension": ".py",
   "mimetype": "text/x-python",
   "name": "python",
   "nbconvert_exporter": "python",
   "pygments_lexer": "ipython3",
   "version": "3.12.0"
  }
 },
 "nbformat": 4,
 "nbformat_minor": 5
}
