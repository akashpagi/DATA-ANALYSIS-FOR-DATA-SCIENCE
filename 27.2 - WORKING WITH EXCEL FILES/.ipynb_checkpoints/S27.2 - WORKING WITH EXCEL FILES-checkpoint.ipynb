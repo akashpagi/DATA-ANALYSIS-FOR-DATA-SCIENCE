{
 "cells": [
  {
   "cell_type": "markdown",
   "id": "6032e94a-0acc-4ef5-85ec-ae4eb9bf7d6c",
   "metadata": {},
   "source": [
    "### **S27.2 - WORKING WITH EXCEL FILES**"
   ]
  },
  {
   "cell_type": "code",
   "execution_count": 6,
   "id": "17f74ad0-6ec6-427a-a450-2c8f8e9eabf0",
   "metadata": {},
   "outputs": [],
   "source": [
    "import pandas as pd"
   ]
  },
  {
   "cell_type": "markdown",
   "id": "756aa777-e369-4ee0-9510-ab72e60d17e7",
   "metadata": {},
   "source": [
    "**What is excel files ?**\n",
    "- Excel files are spreadsheets created using Microsoft Excel, a part of the Microsoft Office suite.\n",
    "- They store tables, formulas, and data for tasks like calculations, inventory tracking, and accounting.\n",
    "- Excel files can have formats like .xls or .xlsx and are binary files containing information about the workbook's worksheets.\n",
    "\n",
    "**read_excel() function:**\n",
    "- It is used to read data from Excel files into a pandas DataFrame.\n",
    "- Also, it have versatile function that allows you to read data from Excel workbooks containing one or more sheets.\n",
    "- **Syntax: pd.read_excel(filepath, sheet_name, names, header, index_col, usecols, dtype, converters, skiprows, nrows, na_values, parse_dates)**"
   ]
  },
  {
   "cell_type": "code",
   "execution_count": 30,
   "id": "5effe49e-fd34-49a1-8444-01f7fc4923df",
   "metadata": {},
   "outputs": [],
   "source": [
    "# importing excel files\n",
    "import pandas as pd"
   ]
  },
  {
   "cell_type": "code",
   "execution_count": 33,
   "id": "6f9e1c64-5266-4bb6-9200-bc087e7e6921",
   "metadata": {},
   "outputs": [
    {
     "data": {
      "text/html": [
       "<div>\n",
       "<style scoped>\n",
       "    .dataframe tbody tr th:only-of-type {\n",
       "        vertical-align: middle;\n",
       "    }\n",
       "\n",
       "    .dataframe tbody tr th {\n",
       "        vertical-align: top;\n",
       "    }\n",
       "\n",
       "    .dataframe thead th {\n",
       "        text-align: right;\n",
       "    }\n",
       "</style>\n",
       "<table border=\"1\" class=\"dataframe\">\n",
       "  <thead>\n",
       "    <tr style=\"text-align: right;\">\n",
       "      <th></th>\n",
       "      <th>batter</th>\n",
       "      <th>batsman_run</th>\n",
       "    </tr>\n",
       "  </thead>\n",
       "  <tbody>\n",
       "    <tr>\n",
       "      <th>0</th>\n",
       "      <td>A Ashish Reddy</td>\n",
       "      <td>280</td>\n",
       "    </tr>\n",
       "    <tr>\n",
       "      <th>1</th>\n",
       "      <td>A Badoni</td>\n",
       "      <td>161</td>\n",
       "    </tr>\n",
       "    <tr>\n",
       "      <th>2</th>\n",
       "      <td>A Chandila</td>\n",
       "      <td>4</td>\n",
       "    </tr>\n",
       "    <tr>\n",
       "      <th>3</th>\n",
       "      <td>A Chopra</td>\n",
       "      <td>53</td>\n",
       "    </tr>\n",
       "    <tr>\n",
       "      <th>4</th>\n",
       "      <td>A Choudhary</td>\n",
       "      <td>25</td>\n",
       "    </tr>\n",
       "    <tr>\n",
       "      <th>...</th>\n",
       "      <td>...</td>\n",
       "      <td>...</td>\n",
       "    </tr>\n",
       "    <tr>\n",
       "      <th>600</th>\n",
       "      <td>Yash Dayal</td>\n",
       "      <td>0</td>\n",
       "    </tr>\n",
       "    <tr>\n",
       "      <th>601</th>\n",
       "      <td>Yashpal Singh</td>\n",
       "      <td>47</td>\n",
       "    </tr>\n",
       "    <tr>\n",
       "      <th>602</th>\n",
       "      <td>Younis Khan</td>\n",
       "      <td>3</td>\n",
       "    </tr>\n",
       "    <tr>\n",
       "      <th>603</th>\n",
       "      <td>Yuvraj Singh</td>\n",
       "      <td>2754</td>\n",
       "    </tr>\n",
       "    <tr>\n",
       "      <th>604</th>\n",
       "      <td>Z Khan</td>\n",
       "      <td>117</td>\n",
       "    </tr>\n",
       "  </tbody>\n",
       "</table>\n",
       "<p>605 rows × 2 columns</p>\n",
       "</div>"
      ],
      "text/plain": [
       "             batter  batsman_run\n",
       "0    A Ashish Reddy          280\n",
       "1          A Badoni          161\n",
       "2        A Chandila            4\n",
       "3          A Chopra           53\n",
       "4       A Choudhary           25\n",
       "..              ...          ...\n",
       "600      Yash Dayal            0\n",
       "601   Yashpal Singh           47\n",
       "602     Younis Khan            3\n",
       "603    Yuvraj Singh         2754\n",
       "604          Z Khan          117\n",
       "\n",
       "[605 rows x 2 columns]"
      ]
     },
     "execution_count": 33,
     "metadata": {},
     "output_type": "execute_result"
    }
   ],
   "source": [
    "pd.read_excel('batsman_runs.xlsx')"
   ]
  },
  {
   "cell_type": "code",
   "execution_count": null,
   "id": "bc579165-4ed6-4ee2-99bb-842fae2d4ee4",
   "metadata": {},
   "outputs": [],
   "source": [
    "# Assuming 'batsman_runs.xlsx' is the Excel file\n",
    "# and 'batsman_runs_with_teams' is the sheet name\n",
    "pd.read_excel('batsman_runs.xlsx', sheet_name='batsman_runs_with_teams')"
   ]
  },
  {
   "cell_type": "code",
   "execution_count": null,
   "id": "bf37f406-4b2c-4852-861f-d42ad7e5195d",
   "metadata": {},
   "outputs": [],
   "source": []
  },
  {
   "cell_type": "code",
   "execution_count": null,
   "id": "e8fc70f0-7d64-4998-b9e3-94095a11496d",
   "metadata": {},
   "outputs": [],
   "source": []
  },
  {
   "cell_type": "code",
   "execution_count": null,
   "id": "c54ffbbf-8e90-452b-971d-1c5b646aa3cd",
   "metadata": {},
   "outputs": [],
   "source": []
  },
  {
   "cell_type": "code",
   "execution_count": null,
   "id": "9311e961-edc1-4c31-8e43-995045edf82e",
   "metadata": {},
   "outputs": [],
   "source": []
  },
  {
   "cell_type": "code",
   "execution_count": null,
   "id": "98c55ea5-d315-4119-9c53-2ab423eb9c36",
   "metadata": {},
   "outputs": [],
   "source": []
  },
  {
   "cell_type": "code",
   "execution_count": null,
   "id": "d2d41481-0350-4526-90b8-4bfeed878b7d",
   "metadata": {},
   "outputs": [],
   "source": []
  },
  {
   "cell_type": "code",
   "execution_count": null,
   "id": "74d43f4d-4dd6-4dfa-9bf5-7439e73eb376",
   "metadata": {},
   "outputs": [],
   "source": []
  },
  {
   "cell_type": "code",
   "execution_count": null,
   "id": "ca8fc94e-6ebd-4ed1-b6bc-2c94cde1b496",
   "metadata": {},
   "outputs": [],
   "source": []
  },
  {
   "cell_type": "code",
   "execution_count": null,
   "id": "e2c5a88b-46f1-4ba7-a6f8-4ab7a91ec10b",
   "metadata": {},
   "outputs": [],
   "source": []
  },
  {
   "cell_type": "code",
   "execution_count": null,
   "id": "9990dbfd-807e-4e83-b960-c70ddc331edf",
   "metadata": {},
   "outputs": [],
   "source": []
  },
  {
   "cell_type": "code",
   "execution_count": null,
   "id": "f432bf7c-e444-4700-8152-d0232f5c0059",
   "metadata": {},
   "outputs": [],
   "source": []
  },
  {
   "cell_type": "code",
   "execution_count": null,
   "id": "c52b388e-7b93-407b-8c77-b7c0b550f18f",
   "metadata": {},
   "outputs": [],
   "source": []
  },
  {
   "cell_type": "code",
   "execution_count": null,
   "id": "50f34281-4b3e-4532-8cc2-20c3eea55484",
   "metadata": {},
   "outputs": [],
   "source": []
  },
  {
   "cell_type": "code",
   "execution_count": null,
   "id": "d06241d5-a675-4f08-bbd5-23c9c3913b8c",
   "metadata": {},
   "outputs": [],
   "source": []
  },
  {
   "cell_type": "code",
   "execution_count": null,
   "id": "2d5c5364-c782-4af9-9a25-039e0bf4b0dc",
   "metadata": {},
   "outputs": [],
   "source": []
  },
  {
   "cell_type": "code",
   "execution_count": null,
   "id": "ef7e431c-1d1d-4971-8eda-8e272c2cd828",
   "metadata": {},
   "outputs": [],
   "source": []
  },
  {
   "cell_type": "code",
   "execution_count": null,
   "id": "c1d09119-c874-4199-beea-968579b832cc",
   "metadata": {},
   "outputs": [],
   "source": []
  },
  {
   "cell_type": "code",
   "execution_count": null,
   "id": "198e7872-1070-4722-b883-3db1a7cf5ff1",
   "metadata": {},
   "outputs": [],
   "source": []
  },
  {
   "cell_type": "code",
   "execution_count": null,
   "id": "bca54bd6-7d3b-4310-b740-579578fd1eca",
   "metadata": {},
   "outputs": [],
   "source": []
  }
 ],
 "metadata": {
  "kernelspec": {
   "display_name": "Python 3 (ipykernel)",
   "language": "python",
   "name": "python3"
  },
  "language_info": {
   "codemirror_mode": {
    "name": "ipython",
    "version": 3
   },
   "file_extension": ".py",
   "mimetype": "text/x-python",
   "name": "python",
   "nbconvert_exporter": "python",
   "pygments_lexer": "ipython3",
   "version": "3.12.0"
  }
 },
 "nbformat": 4,
 "nbformat_minor": 5
}
