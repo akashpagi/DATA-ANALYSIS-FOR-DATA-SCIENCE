{
  "nbformat": 4,
  "nbformat_minor": 0,
  "metadata": {
    "colab": {
      "provenance": []
    },
    "kernelspec": {
      "name": "python3",
      "display_name": "Python 3"
    },
    "language_info": {
      "name": "python"
    }
  },
  "cells": [
    {
      "cell_type": "code",
      "execution_count": null,
      "metadata": {
        "id": "cY_pbpMg8T2g"
      },
      "outputs": [],
      "source": [
        "import pandas as pd\n",
        "import requests\n",
        "from io import StringIO"
      ]
    },
    {
      "cell_type": "markdown",
      "source": [
        "### Problem-1:\n",
        "\n",
        "You are given a SQL file link: https://drive.google.com/file/d/1WFt7B84LTHhMueoKmz8W-PRo7xXqmZf3/view?usp=share_link. Read the data by using the file and store it in a excel file. In this data, there are 3 tables named \"invoices\", \"order_leads\" and \"sales_sql\". So create 3 sheets to your excel file."
      ],
      "metadata": {
        "id": "REyPSoAX8YRm"
      }
    },
    {
      "cell_type": "code",
      "source": [
        "# code here"
      ],
      "metadata": {
        "id": "CjgZ3pDV8Xza"
      },
      "execution_count": null,
      "outputs": []
    },
    {
      "cell_type": "markdown",
      "source": [
        "### Problem-2\n",
        "\n",
        "Go to the site: https://rapidapi.com/wirefreethought/api/geodb-cities. From here, you have to grab the API and have to choose proper routes to get the cities of different countries. After getting the right API, hit that API and create a dataframe of all the cities that you can get by using the API. Then store the dataframe to a SQL. If you need to create an account or have to subscribe, then do that (it has free subscription but has some limitations. Use that free subscription and modify your accordingly to get all the data).  "
      ],
      "metadata": {
        "id": "ixwn5tD08dDV"
      }
    },
    {
      "cell_type": "code",
      "source": [
        "### code here"
      ],
      "metadata": {
        "id": "OMTekidj8eDA"
      },
      "execution_count": null,
      "outputs": []
    },
    {
      "cell_type": "markdown",
      "source": [
        "### Problem 3:\n",
        "\n",
        "Go to this url: https://www.flipkart.com/search?q=smartphones. This is the url to find phones in flipkart website. You have to extract the below things:\n",
        "1. image url of the phone\n",
        "2. name of the image\n",
        "3. average ratings\n",
        "4. total ratings\n",
        "5. total reviews\n",
        "6. discounted price\n",
        "7. actual price\n",
        "\n",
        "Extract all the phones which are available in this website. So you have to use the pagination concept. **Also after requesting every page through the url, please wait for a while (minimum 2-3 seconds), otherwise your IP address can be banned to access the flipkart website later.**\n",
        "\n",
        "After collecting all the data, save that in a JSON file."
      ],
      "metadata": {
        "id": "V514SPZd8f63"
      }
    },
    {
      "cell_type": "code",
      "source": [
        "# code here"
      ],
      "metadata": {
        "id": "FGFT4kap8iwT"
      },
      "execution_count": null,
      "outputs": []
    }
  ]
}