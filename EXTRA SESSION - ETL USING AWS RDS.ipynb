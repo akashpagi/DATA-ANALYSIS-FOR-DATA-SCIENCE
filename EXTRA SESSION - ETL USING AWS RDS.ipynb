{
 "cells": [
  {
   "cell_type": "markdown",
   "id": "6d2da66e-2d3c-4473-a88a-5c7575821552",
   "metadata": {},
   "source": [
    "### EXTRA SESSION - ETL USING AWS RDS"
   ]
  },
  {
   "cell_type": "markdown",
   "id": "590bf2d6-9695-48fb-8090-9182c5756103",
   "metadata": {},
   "source": [
    "**What is ETL?**\n",
    "- Extract, transform, and load (ETL) is the process of combining data from multiple sources into a large, central repository called a data warehouse.\n",
    "- ETL uses a set of business rules to clean and organize raw data and prepare it for storage, data analytics, and machine learning (ML).\n",
    "- You can address specific business intelligence needs through data analytics (such as predicting the outcome of business decisions, generating reports and dashboards, reducing operational inefficiency, and more).\n",
    "\n",
    "**AWS RDS ?**\n",
    "- Amazon Relational Database Service (Amazon RDS)\n",
    "- Managed SQL Database - set up, operate, and scale databases in the cloud.\n",
    "- Link: https://aws.amazon.com/rds/\n"
   ]
  },
  {
   "cell_type": "code",
   "execution_count": null,
   "id": "f7fcb39a-d91e-4e86-acff-3d9368743eac",
   "metadata": {},
   "outputs": [],
   "source": []
  },
  {
   "cell_type": "code",
   "execution_count": null,
   "id": "024fa073-cb39-4b3a-83e7-5c9229aae00e",
   "metadata": {},
   "outputs": [],
   "source": []
  },
  {
   "cell_type": "code",
   "execution_count": null,
   "id": "a8e1ae8d-8765-4502-a1a8-7a27cefa8ae5",
   "metadata": {},
   "outputs": [],
   "source": []
  },
  {
   "cell_type": "code",
   "execution_count": null,
   "id": "77151cb3-8869-41e9-89ac-07c91be46f47",
   "metadata": {},
   "outputs": [],
   "source": []
  },
  {
   "cell_type": "code",
   "execution_count": null,
   "id": "1ea22510-8bd9-4959-b4a6-a5d368f2d341",
   "metadata": {},
   "outputs": [],
   "source": []
  },
  {
   "cell_type": "code",
   "execution_count": null,
   "id": "93ac5284-474a-45ee-94af-40fb7e907be6",
   "metadata": {},
   "outputs": [],
   "source": []
  },
  {
   "cell_type": "code",
   "execution_count": null,
   "id": "e070ea73-c18f-4588-9e97-cb661a8d2ff6",
   "metadata": {},
   "outputs": [],
   "source": []
  },
  {
   "cell_type": "code",
   "execution_count": null,
   "id": "82277fc2-9f19-44ef-bc07-5eb4d22bb39a",
   "metadata": {},
   "outputs": [],
   "source": []
  },
  {
   "cell_type": "code",
   "execution_count": null,
   "id": "1f12bece-e056-4136-b6e6-12faf9637da4",
   "metadata": {},
   "outputs": [],
   "source": []
  },
  {
   "cell_type": "code",
   "execution_count": null,
   "id": "55a28f39-221a-4df7-92ae-5ba659426ddd",
   "metadata": {},
   "outputs": [],
   "source": []
  },
  {
   "cell_type": "code",
   "execution_count": null,
   "id": "77cccefc-03ba-4e0f-80ab-1d7776ff264d",
   "metadata": {},
   "outputs": [],
   "source": []
  },
  {
   "cell_type": "code",
   "execution_count": null,
   "id": "7222151c-ef45-4f52-92b4-e35b518f891d",
   "metadata": {},
   "outputs": [],
   "source": []
  }
 ],
 "metadata": {
  "kernelspec": {
   "display_name": "Python 3 (ipykernel)",
   "language": "python",
   "name": "python3"
  },
  "language_info": {
   "codemirror_mode": {
    "name": "ipython",
    "version": 3
   },
   "file_extension": ".py",
   "mimetype": "text/x-python",
   "name": "python",
   "nbconvert_exporter": "python",
   "pygments_lexer": "ipython3",
   "version": "3.12.0"
  }
 },
 "nbformat": 4,
 "nbformat_minor": 5
}
