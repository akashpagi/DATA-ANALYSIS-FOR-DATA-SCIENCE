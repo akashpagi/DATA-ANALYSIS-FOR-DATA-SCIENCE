{
 "cells": [
  {
   "cell_type": "markdown",
   "id": "39c8c63c-e9e9-425d-a158-52c1537dc7ef",
   "metadata": {},
   "source": [
    "### **S27.3 - WORKING WITH TEXT FILES**"
   ]
  },
  {
   "cell_type": "code",
   "execution_count": null,
   "id": "8582803f-029d-44e5-a99f-de61af219f13",
   "metadata": {},
   "outputs": [],
   "source": []
  },
  {
   "cell_type": "code",
   "execution_count": null,
   "id": "4a162525-064f-4a4d-bf77-b2a8e79a58bc",
   "metadata": {},
   "outputs": [],
   "source": []
  },
  {
   "cell_type": "code",
   "execution_count": null,
   "id": "7104e6a2-48bd-4a82-bd03-08c4431c8b39",
   "metadata": {},
   "outputs": [],
   "source": []
  },
  {
   "cell_type": "code",
   "execution_count": null,
   "id": "2bc23c76-c59c-470a-adcb-abd262c5012f",
   "metadata": {},
   "outputs": [],
   "source": []
  },
  {
   "cell_type": "code",
   "execution_count": null,
   "id": "23c21a3f-64b1-4ebd-a0c0-03b67760835f",
   "metadata": {},
   "outputs": [],
   "source": []
  }
 ],
 "metadata": {
  "kernelspec": {
   "display_name": "Python 3 (ipykernel)",
   "language": "python",
   "name": "python3"
  },
  "language_info": {
   "codemirror_mode": {
    "name": "ipython",
    "version": 3
   },
   "file_extension": ".py",
   "mimetype": "text/x-python",
   "name": "python",
   "nbconvert_exporter": "python",
   "pygments_lexer": "ipython3",
   "version": "3.12.0"
  }
 },
 "nbformat": 4,
 "nbformat_minor": 5
}
